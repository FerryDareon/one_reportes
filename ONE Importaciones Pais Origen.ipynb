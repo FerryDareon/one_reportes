{
 "cells": [
  {
   "cell_type": "markdown",
   "metadata": {},
   "source": [
    "# Obtención de los Reportes en Excel de la ONE a través de Jupyter Notebook Python (Importaciones 2023)"
   ]
  },
  {
   "cell_type": "code",
   "execution_count": 1,
   "metadata": {},
   "outputs": [],
   "source": [
    "import pandas as pd\n",
    "import numpy as np\n",
    "from one_report import dataframe_one\n",
    "import seaborn as sns\n",
    "import matplotlib.pyplot as plt\n",
    "pd.options.display.float_format = '{:,.2f}'.format\n",
    "import textwrap\n",
    "\n",
    "def wrap_labels(ax, width, break_long_words=False):\n",
    "    \"\"\"\n",
    "    Envuelve los textos de las etiquetas del eje x de un gráfico en varias líneas si son demasiado largos.\n",
    "\n",
    "    Parámetros:\n",
    "        - ax (matplotlib.axes.Axes): El objeto de ejes sobre el que se aplicarán las etiquetas envueltas.\n",
    "        - width (int): Ancho máximo deseado para cada línea de texto envuelto.\n",
    "        - break_long_words (bool): Indica si se deben romper las palabras largas o no. Por defecto, es False.\n",
    "\n",
    "    Retorna:\n",
    "        None\n",
    "    \"\"\"\n",
    "    labels = []\n",
    "    for label in ax.get_xticklabels():\n",
    "        text = label.get_text()\n",
    "        labels.append(textwrap.fill(text, width=width, break_long_words=break_long_words))\n",
    "    ax.set_xticklabels(labels, rotation=0)\n"
   ]
  },
  {
   "cell_type": "code",
   "execution_count": 2,
   "metadata": {},
   "outputs": [
    {
     "name": "stderr",
     "output_type": "stream",
     "text": [
      "d:\\Python\\one_report.py:28: FutureWarning: Passing a negative integer is deprecated in version 1.0 and will not be supported in future version. Instead, use None to not limit the column width.\n",
      "  pd.set_option(\"display.max_colwidth\", -1)\n"
     ]
    },
    {
     "name": "stdout",
     "output_type": "stream",
     "text": [
      "Generando el DataFrame\n"
     ]
    }
   ],
   "source": [
    "df = dataframe_one(\"Importaciones\", 2023)"
   ]
  },
  {
   "cell_type": "code",
   "execution_count": 3,
   "metadata": {},
   "outputs": [
    {
     "name": "stdout",
     "output_type": "stream",
     "text": [
      "\n",
      "    Esta función extrae datos de un archivo Excel alojado en el sitio web de ONE (Oficina Nacional de Estadística) de la República Dominicana.\n",
      "    Se requiere especificar el nombre de la tabla de interés y el año de interés para seleccionar los datos adecuados del archivo.\n",
      "\n",
      "    Parámetros:\n",
      "        - tabla_interes (str): El nombre de la tabla de interés. Por defecto es \"Importaciones\".\n",
      "        - año_interes (int): El año de interés para seleccionar los datos adecuados. Por defecto es 2024.\n",
      "        - url(str): URL del archivo a leer en formato xlsx. Si se proporciona, se ignora el nombre de la tabla y el año de interés.\n",
      "    Returns:\n",
      "        Un diccionario de DataFrames con las hojas de Excel seleccionadas según los parámetros especificados.\n",
      "    \n"
     ]
    }
   ],
   "source": [
    "print(dataframe_one.__doc__)"
   ]
  },
  {
   "cell_type": "markdown",
   "metadata": {},
   "source": [
    "Estaríamos obteniendo un DataFrame compuesto por el Excel completo del archivo .xlsx consultado.\n",
    "\n",
    "Con la función .keys() tendríamos una visualización de los nombres de las Hojas o Sheets del archivo leído. Y si se desea consultar o utilizar una hoja específica se deberá hacerlo como si de una columna de un DataFrame se tratara, obteniendo el DataFrame correspondiente."
   ]
  },
  {
   "cell_type": "code",
   "execution_count": 4,
   "metadata": {},
   "outputs": [
    {
     "data": {
      "text/plain": [
       "dict_keys(['IMP_2023_WEB'])"
      ]
     },
     "execution_count": 4,
     "metadata": {},
     "output_type": "execute_result"
    }
   ],
   "source": [
    "df.keys()"
   ]
  },
  {
   "cell_type": "markdown",
   "metadata": {},
   "source": [
    "De esta forma, estaríamos guardando la información que se encuentra en el archivo exportado de .xlsx para su manipulación y uso."
   ]
  },
  {
   "cell_type": "code",
   "execution_count": 5,
   "metadata": {},
   "outputs": [
    {
     "data": {
      "text/html": [
       "<div>\n",
       "<style scoped>\n",
       "    .dataframe tbody tr th:only-of-type {\n",
       "        vertical-align: middle;\n",
       "    }\n",
       "\n",
       "    .dataframe tbody tr th {\n",
       "        vertical-align: top;\n",
       "    }\n",
       "\n",
       "    .dataframe thead th {\n",
       "        text-align: right;\n",
       "    }\n",
       "</style>\n",
       "<table border=\"1\" class=\"dataframe\">\n",
       "  <thead>\n",
       "    <tr style=\"text-align: right;\">\n",
       "      <th></th>\n",
       "      <th>Transacción</th>\n",
       "      <th>Año</th>\n",
       "      <th>Mes</th>\n",
       "      <th>Cod_Seccion</th>\n",
       "      <th>Desc_Seccion</th>\n",
       "      <th>Cod_Capitulo</th>\n",
       "      <th>Desc_Capitulo</th>\n",
       "      <th>Cod_Partida</th>\n",
       "      <th>Desc_Partida</th>\n",
       "      <th>Cod_Arancel</th>\n",
       "      <th>...</th>\n",
       "      <th>Grupo_economico</th>\n",
       "      <th>Destino_economico</th>\n",
       "      <th>Via_Transporte</th>\n",
       "      <th>Colecturia_ID</th>\n",
       "      <th>Colecturia</th>\n",
       "      <th>Regimen_Aduanero</th>\n",
       "      <th>Tipo_Dato</th>\n",
       "      <th>Peso</th>\n",
       "      <th>V_FOB_USD</th>\n",
       "      <th>V_CIF_USD</th>\n",
       "    </tr>\n",
       "  </thead>\n",
       "  <tbody>\n",
       "    <tr>\n",
       "      <th>0</th>\n",
       "      <td>Importación</td>\n",
       "      <td>2023</td>\n",
       "      <td>1</td>\n",
       "      <td>1</td>\n",
       "      <td>Animales vivos y productos del reino animal.</td>\n",
       "      <td>1</td>\n",
       "      <td>Animales vivos.</td>\n",
       "      <td>101</td>\n",
       "      <td>Caballos, asnos, mulos y burdéganos, vivos.</td>\n",
       "      <td>0101.21.00</td>\n",
       "      <td>...</td>\n",
       "      <td>Bienes de Capital</td>\n",
       "      <td>Para la Agricultura</td>\n",
       "      <td>Por vía aérea</td>\n",
       "      <td>2050</td>\n",
       "      <td>Aeropuerto Internacional de Las Américas, José Francisco Peña Gómez (SDQ), Santo Domingo</td>\n",
       "      <td>03 Otros¹</td>\n",
       "      <td>1</td>\n",
       "      <td>2,250.00</td>\n",
       "      <td>20,000.00</td>\n",
       "      <td>24,400.00</td>\n",
       "    </tr>\n",
       "    <tr>\n",
       "      <th>1</th>\n",
       "      <td>Importación</td>\n",
       "      <td>2023</td>\n",
       "      <td>1</td>\n",
       "      <td>1</td>\n",
       "      <td>Animales vivos y productos del reino animal.</td>\n",
       "      <td>1</td>\n",
       "      <td>Animales vivos.</td>\n",
       "      <td>105</td>\n",
       "      <td>Gallos, gallinas, patos, gansos, pavos (gallipavos) y pintadas, delas especies domésticas, vivos.</td>\n",
       "      <td>0105.94.10</td>\n",
       "      <td>...</td>\n",
       "      <td>Bienes de Capital</td>\n",
       "      <td>Para la Agricultura</td>\n",
       "      <td>Por vía aérea</td>\n",
       "      <td>2050</td>\n",
       "      <td>Aeropuerto Internacional de Las Américas, José Francisco Peña Gómez (SDQ), Santo Domingo</td>\n",
       "      <td>01 Nacional</td>\n",
       "      <td>1</td>\n",
       "      <td>778.00</td>\n",
       "      <td>323,508.40</td>\n",
       "      <td>371,444.37</td>\n",
       "    </tr>\n",
       "    <tr>\n",
       "      <th>2</th>\n",
       "      <td>Importación</td>\n",
       "      <td>2023</td>\n",
       "      <td>1</td>\n",
       "      <td>1</td>\n",
       "      <td>Animales vivos y productos del reino animal.</td>\n",
       "      <td>2</td>\n",
       "      <td>Carne y despojos comestibles.</td>\n",
       "      <td>201</td>\n",
       "      <td>Carne de animales de la especie bovina, fresca o refrigerada.</td>\n",
       "      <td>0201.20.10</td>\n",
       "      <td>...</td>\n",
       "      <td>Materias Primas</td>\n",
       "      <td>Para la Industria alimenticia (sin elaborar)</td>\n",
       "      <td>Por vía marítima</td>\n",
       "      <td>1030</td>\n",
       "      <td>Haina Oriental</td>\n",
       "      <td>01 Nacional</td>\n",
       "      <td>1</td>\n",
       "      <td>19,908.73</td>\n",
       "      <td>317,173.68</td>\n",
       "      <td>336,457.98</td>\n",
       "    </tr>\n",
       "  </tbody>\n",
       "</table>\n",
       "<p>3 rows × 28 columns</p>\n",
       "</div>"
      ],
      "text/plain": [
       "   Transacción   Año  Mes  Cod_Seccion  \\\n",
       "0  Importación  2023  1    1             \n",
       "1  Importación  2023  1    1             \n",
       "2  Importación  2023  1    1             \n",
       "\n",
       "                                   Desc_Seccion  Cod_Capitulo  \\\n",
       "0  Animales vivos y productos del reino animal.  1              \n",
       "1  Animales vivos y productos del reino animal.  1              \n",
       "2  Animales vivos y productos del reino animal.  2              \n",
       "\n",
       "                   Desc_Capitulo  Cod_Partida  \\\n",
       "0  Animales vivos.                101           \n",
       "1  Animales vivos.                105           \n",
       "2  Carne y despojos comestibles.  201           \n",
       "\n",
       "                                                                                        Desc_Partida  \\\n",
       "0  Caballos, asnos, mulos y burdéganos, vivos.                                                         \n",
       "1  Gallos, gallinas, patos, gansos, pavos (gallipavos) y pintadas, delas especies domésticas, vivos.   \n",
       "2  Carne de animales de la especie bovina, fresca o refrigerada.                                       \n",
       "\n",
       "  Cod_Arancel  ...    Grupo_economico  \\\n",
       "0  0101.21.00  ...  Bienes de Capital   \n",
       "1  0105.94.10  ...  Bienes de Capital   \n",
       "2  0201.20.10  ...  Materias Primas     \n",
       "\n",
       "                              Destino_economico    Via_Transporte  \\\n",
       "0  Para la Agricultura                           Por vía aérea      \n",
       "1  Para la Agricultura                           Por vía aérea      \n",
       "2  Para la Industria alimenticia (sin elaborar)  Por vía marítima   \n",
       "\n",
       "   Colecturia_ID  \\\n",
       "0  2050            \n",
       "1  2050            \n",
       "2  1030            \n",
       "\n",
       "                                                                                 Colecturia  \\\n",
       "0  Aeropuerto Internacional de Las Américas, José Francisco Peña Gómez (SDQ), Santo Domingo   \n",
       "1  Aeropuerto Internacional de Las Américas, José Francisco Peña Gómez (SDQ), Santo Domingo   \n",
       "2  Haina Oriental                                                                             \n",
       "\n",
       "  Regimen_Aduanero Tipo_Dato      Peso  V_FOB_USD  V_CIF_USD  \n",
       "0  03 Otros¹        1        2,250.00  20,000.00  24,400.00   \n",
       "1  01 Nacional      1        778.00    323,508.40 371,444.37  \n",
       "2  01 Nacional      1        19,908.73 317,173.68 336,457.98  \n",
       "\n",
       "[3 rows x 28 columns]"
      ]
     },
     "execution_count": 5,
     "metadata": {},
     "output_type": "execute_result"
    }
   ],
   "source": [
    "importaciones_2023 = df[\"IMP_2023_WEB\"]\n",
    "importaciones_2023.head(3)"
   ]
  },
  {
   "cell_type": "markdown",
   "metadata": {},
   "source": [
    "En este ejemplo, estaríamos explorando el $DataFrame$ de las Importaciones de la República Dominicana para el 2023.\n",
    "\n",
    "Como primer paso, se realizara un `.info()` del $DataFrame$, para observar como se encuentra compuesto el mismo.\n",
    "\n",
    "Como se aprecia este $DataFrame$, posee ciertas columnas que en el nombre contiene la palabra $Cod\\_$, $\\_ID$ y $Tipo\\_ Dato$, esto corresponde a código de la variable en sí, procederemos a deseleccionar dichas variables, con el objetivo de quedarnos con las variables tanto categóricas como numéricas."
   ]
  },
  {
   "cell_type": "code",
   "execution_count": 6,
   "metadata": {},
   "outputs": [
    {
     "name": "stdout",
     "output_type": "stream",
     "text": [
      "<class 'pandas.core.frame.DataFrame'>\n",
      "RangeIndex: 597471 entries, 0 to 597470\n",
      "Data columns (total 28 columns):\n",
      " #   Column                Non-Null Count   Dtype  \n",
      "---  ------                --------------   -----  \n",
      " 0   Transacción           597471 non-null  object \n",
      " 1   Año                   597471 non-null  int64  \n",
      " 2   Mes                   597471 non-null  int64  \n",
      " 3   Cod_Seccion           597471 non-null  int64  \n",
      " 4   Desc_Seccion          597471 non-null  object \n",
      " 5   Cod_Capitulo          597471 non-null  int64  \n",
      " 6   Desc_Capitulo         597471 non-null  object \n",
      " 7   Cod_Partida           597471 non-null  int64  \n",
      " 8   Desc_Partida          597471 non-null  object \n",
      " 9   Cod_Arancel           597471 non-null  object \n",
      " 10  Desc_Arancel          597471 non-null  object \n",
      " 11  Cod_Pais              597471 non-null  int64  \n",
      " 12  Pais_Origen           597471 non-null  object \n",
      " 13  Cod_Pais_Procedencia  597471 non-null  int64  \n",
      " 14  Pais_Procedencia      597471 non-null  object \n",
      " 15  Estado                597471 non-null  object \n",
      " 16  Region                597471 non-null  object \n",
      " 17  Continente            597471 non-null  object \n",
      " 18  Grupo_economico       597471 non-null  object \n",
      " 19  Destino_economico     597471 non-null  object \n",
      " 20  Via_Transporte        597471 non-null  object \n",
      " 21  Colecturia_ID         597471 non-null  int64  \n",
      " 22  Colecturia            597471 non-null  object \n",
      " 23  Regimen_Aduanero      597471 non-null  object \n",
      " 24  Tipo_Dato             597471 non-null  int64  \n",
      " 25  Peso                  597471 non-null  float64\n",
      " 26  V_FOB_USD             597471 non-null  float64\n",
      " 27  V_CIF_USD             597471 non-null  float64\n",
      "dtypes: float64(3), int64(9), object(16)\n",
      "memory usage: 127.6+ MB\n"
     ]
    }
   ],
   "source": [
    "importaciones_2023.info()"
   ]
  },
  {
   "cell_type": "code",
   "execution_count": 7,
   "metadata": {},
   "outputs": [
    {
     "name": "stdout",
     "output_type": "stream",
     "text": [
      "<class 'pandas.core.frame.DataFrame'>\n",
      "RangeIndex: 597471 entries, 0 to 597470\n",
      "Data columns (total 20 columns):\n",
      " #   Column             Non-Null Count   Dtype  \n",
      "---  ------             --------------   -----  \n",
      " 0   Transacción        597471 non-null  object \n",
      " 1   Año                597471 non-null  int64  \n",
      " 2   Mes                597471 non-null  int64  \n",
      " 3   Desc_Seccion       597471 non-null  object \n",
      " 4   Desc_Capitulo      597471 non-null  object \n",
      " 5   Desc_Partida       597471 non-null  object \n",
      " 6   Desc_Arancel       597471 non-null  object \n",
      " 7   Pais_Origen        597471 non-null  object \n",
      " 8   Pais_Procedencia   597471 non-null  object \n",
      " 9   Estado             597471 non-null  object \n",
      " 10  Region             597471 non-null  object \n",
      " 11  Continente         597471 non-null  object \n",
      " 12  Grupo_economico    597471 non-null  object \n",
      " 13  Destino_economico  597471 non-null  object \n",
      " 14  Via_Transporte     597471 non-null  object \n",
      " 15  Colecturia         597471 non-null  object \n",
      " 16  Regimen_Aduanero   597471 non-null  object \n",
      " 17  Peso               597471 non-null  float64\n",
      " 18  V_FOB_USD          597471 non-null  float64\n",
      " 19  V_CIF_USD          597471 non-null  float64\n",
      "dtypes: float64(3), int64(2), object(15)\n",
      "memory usage: 91.2+ MB\n"
     ]
    }
   ],
   "source": [
    "# Deseleccionar columnas que contienen \"Cod_\" y \"Colecturia_ID\" y \"Tipo_Dato\"\n",
    "importaciones_2023 = importaciones_2023.drop(columns=importaciones_2023.columns[importaciones_2023.columns.str.contains('Cod_|_ID|Tipo_Dato')])\n",
    "importaciones_2023.info()"
   ]
  },
  {
   "cell_type": "markdown",
   "metadata": {},
   "source": [
    "Se utiliza el método `.describe()` para obtener estadísticas descriptivas de las variables numéricas en el DataFrame."
   ]
  },
  {
   "cell_type": "code",
   "execution_count": 8,
   "metadata": {},
   "outputs": [
    {
     "data": {
      "text/html": [
       "<div>\n",
       "<style scoped>\n",
       "    .dataframe tbody tr th:only-of-type {\n",
       "        vertical-align: middle;\n",
       "    }\n",
       "\n",
       "    .dataframe tbody tr th {\n",
       "        vertical-align: top;\n",
       "    }\n",
       "\n",
       "    .dataframe thead th {\n",
       "        text-align: right;\n",
       "    }\n",
       "</style>\n",
       "<table border=\"1\" class=\"dataframe\">\n",
       "  <thead>\n",
       "    <tr style=\"text-align: right;\">\n",
       "      <th></th>\n",
       "      <th>Año</th>\n",
       "      <th>Mes</th>\n",
       "      <th>Peso</th>\n",
       "      <th>V_FOB_USD</th>\n",
       "      <th>V_CIF_USD</th>\n",
       "    </tr>\n",
       "  </thead>\n",
       "  <tbody>\n",
       "    <tr>\n",
       "      <th>count</th>\n",
       "      <td>597,471.00</td>\n",
       "      <td>597,471.00</td>\n",
       "      <td>597,471.00</td>\n",
       "      <td>597,471.00</td>\n",
       "      <td>597,471.00</td>\n",
       "    </tr>\n",
       "    <tr>\n",
       "      <th>mean</th>\n",
       "      <td>2,023.00</td>\n",
       "      <td>6.57</td>\n",
       "      <td>37,015.97</td>\n",
       "      <td>48,590.13</td>\n",
       "      <td>52,481.88</td>\n",
       "    </tr>\n",
       "    <tr>\n",
       "      <th>std</th>\n",
       "      <td>0.00</td>\n",
       "      <td>3.42</td>\n",
       "      <td>1,237,192.92</td>\n",
       "      <td>645,461.74</td>\n",
       "      <td>671,675.11</td>\n",
       "    </tr>\n",
       "    <tr>\n",
       "      <th>min</th>\n",
       "      <td>2,023.00</td>\n",
       "      <td>1.00</td>\n",
       "      <td>0.00</td>\n",
       "      <td>0.00</td>\n",
       "      <td>-0.71</td>\n",
       "    </tr>\n",
       "    <tr>\n",
       "      <th>25%</th>\n",
       "      <td>2,023.00</td>\n",
       "      <td>4.00</td>\n",
       "      <td>5.73</td>\n",
       "      <td>255.25</td>\n",
       "      <td>315.73</td>\n",
       "    </tr>\n",
       "    <tr>\n",
       "      <th>50%</th>\n",
       "      <td>2,023.00</td>\n",
       "      <td>7.00</td>\n",
       "      <td>68.76</td>\n",
       "      <td>1,572.18</td>\n",
       "      <td>1,825.64</td>\n",
       "    </tr>\n",
       "    <tr>\n",
       "      <th>75%</th>\n",
       "      <td>2,023.00</td>\n",
       "      <td>10.00</td>\n",
       "      <td>850.77</td>\n",
       "      <td>10,471.68</td>\n",
       "      <td>11,723.01</td>\n",
       "    </tr>\n",
       "    <tr>\n",
       "      <th>max</th>\n",
       "      <td>2,023.00</td>\n",
       "      <td>12.00</td>\n",
       "      <td>314,848,212.53</td>\n",
       "      <td>116,458,364.50</td>\n",
       "      <td>119,430,071.00</td>\n",
       "    </tr>\n",
       "  </tbody>\n",
       "</table>\n",
       "</div>"
      ],
      "text/plain": [
       "             Año        Mes           Peso      V_FOB_USD      V_CIF_USD\n",
       "count 597,471.00 597,471.00 597,471.00     597,471.00     597,471.00    \n",
       "mean  2,023.00   6.57       37,015.97      48,590.13      52,481.88     \n",
       "std   0.00       3.42       1,237,192.92   645,461.74     671,675.11    \n",
       "min   2,023.00   1.00       0.00           0.00           -0.71         \n",
       "25%   2,023.00   4.00       5.73           255.25         315.73        \n",
       "50%   2,023.00   7.00       68.76          1,572.18       1,825.64      \n",
       "75%   2,023.00   10.00      850.77         10,471.68      11,723.01     \n",
       "max   2,023.00   12.00      314,848,212.53 116,458,364.50 119,430,071.00"
      ]
     },
     "execution_count": 8,
     "metadata": {},
     "output_type": "execute_result"
    }
   ],
   "source": [
    "importaciones_2023.describe()"
   ]
  },
  {
   "cell_type": "markdown",
   "metadata": {},
   "source": [
    "Se utiliza el método .shape para obtener la forma del DataFrame, es decir, el número de filas y columnas."
   ]
  },
  {
   "cell_type": "code",
   "execution_count": 9,
   "metadata": {},
   "outputs": [
    {
     "data": {
      "text/plain": [
       "(597471, 20)"
      ]
     },
     "execution_count": 9,
     "metadata": {},
     "output_type": "execute_result"
    }
   ],
   "source": [
    "importaciones_2023.shape"
   ]
  },
  {
   "cell_type": "markdown",
   "metadata": {},
   "source": [
    "Durante el periodo 2023, los principales socios comerciales en las importaciones de la República Dominicana son Estados Unidos, China, Brasil, México y España, siendo Estados Unidos el más influyente con un 40.94% del valor total de las importaciones del país, equivalente a 12,746.06 millones de dólares, seguido de China, representando el 16.39% de las importaciones del país, equivalente a 4,758.71 millones de dólares.\n"
   ]
  },
  {
   "cell_type": "code",
   "execution_count": 10,
   "metadata": {},
   "outputs": [
    {
     "data": {
      "text/html": [
       "<div>\n",
       "<style scoped>\n",
       "    .dataframe tbody tr th:only-of-type {\n",
       "        vertical-align: middle;\n",
       "    }\n",
       "\n",
       "    .dataframe tbody tr th {\n",
       "        vertical-align: top;\n",
       "    }\n",
       "\n",
       "    .dataframe thead th {\n",
       "        text-align: right;\n",
       "    }\n",
       "</style>\n",
       "<table border=\"1\" class=\"dataframe\">\n",
       "  <thead>\n",
       "    <tr style=\"text-align: right;\">\n",
       "      <th></th>\n",
       "      <th>Pais_Origen</th>\n",
       "      <th>V_CIF_USD</th>\n",
       "      <th>V_FOB_USD</th>\n",
       "      <th>V_FOB_USD_%</th>\n",
       "      <th>V_CIF_USD_%</th>\n",
       "    </tr>\n",
       "  </thead>\n",
       "  <tbody>\n",
       "    <tr>\n",
       "      <th>53</th>\n",
       "      <td>Estados Unidos de América</td>\n",
       "      <td>12,746,064,077.81</td>\n",
       "      <td>11,885,257,598.34</td>\n",
       "      <td>40.94</td>\n",
       "      <td>40.65</td>\n",
       "    </tr>\n",
       "    <tr>\n",
       "      <th>35</th>\n",
       "      <td>China</td>\n",
       "      <td>5,189,210,815.91</td>\n",
       "      <td>4,758,705,458.06</td>\n",
       "      <td>16.39</td>\n",
       "      <td>16.55</td>\n",
       "    </tr>\n",
       "    <tr>\n",
       "      <th>24</th>\n",
       "      <td>Brasil</td>\n",
       "      <td>1,214,621,304.37</td>\n",
       "      <td>1,111,130,506.70</td>\n",
       "      <td>3.83</td>\n",
       "      <td>3.87</td>\n",
       "    </tr>\n",
       "    <tr>\n",
       "      <th>119</th>\n",
       "      <td>México</td>\n",
       "      <td>1,175,713,738.97</td>\n",
       "      <td>1,088,546,384.57</td>\n",
       "      <td>3.75</td>\n",
       "      <td>3.75</td>\n",
       "    </tr>\n",
       "    <tr>\n",
       "      <th>50</th>\n",
       "      <td>España</td>\n",
       "      <td>1,169,527,247.02</td>\n",
       "      <td>1,067,674,182.62</td>\n",
       "      <td>3.68</td>\n",
       "      <td>3.73</td>\n",
       "    </tr>\n",
       "    <tr>\n",
       "      <th>92</th>\n",
       "      <td>Italia</td>\n",
       "      <td>976,665,367.15</td>\n",
       "      <td>930,416,268.89</td>\n",
       "      <td>3.20</td>\n",
       "      <td>3.11</td>\n",
       "    </tr>\n",
       "    <tr>\n",
       "      <th>37</th>\n",
       "      <td>Colombia</td>\n",
       "      <td>709,119,549.45</td>\n",
       "      <td>659,925,238.92</td>\n",
       "      <td>2.27</td>\n",
       "      <td>2.26</td>\n",
       "    </tr>\n",
       "    <tr>\n",
       "      <th>1</th>\n",
       "      <td>Alemania</td>\n",
       "      <td>551,827,831.85</td>\n",
       "      <td>518,637,085.09</td>\n",
       "      <td>1.79</td>\n",
       "      <td>1.76</td>\n",
       "    </tr>\n",
       "    <tr>\n",
       "      <th>94</th>\n",
       "      <td>Japón</td>\n",
       "      <td>573,175,844.49</td>\n",
       "      <td>518,537,258.70</td>\n",
       "      <td>1.79</td>\n",
       "      <td>1.83</td>\n",
       "    </tr>\n",
       "    <tr>\n",
       "      <th>75</th>\n",
       "      <td>India</td>\n",
       "      <td>495,271,573.54</td>\n",
       "      <td>455,220,480.30</td>\n",
       "      <td>1.57</td>\n",
       "      <td>1.58</td>\n",
       "    </tr>\n",
       "    <tr>\n",
       "      <th>0</th>\n",
       "      <td>Otros</td>\n",
       "      <td>6,555,200,989.80</td>\n",
       "      <td>6,037,144,843.77</td>\n",
       "      <td>20.80</td>\n",
       "      <td>20.91</td>\n",
       "    </tr>\n",
       "  </tbody>\n",
       "</table>\n",
       "</div>"
      ],
      "text/plain": [
       "                   Pais_Origen         V_CIF_USD         V_FOB_USD  \\\n",
       "53   Estados Unidos de América 12,746,064,077.81 11,885,257,598.34   \n",
       "35   China                     5,189,210,815.91  4,758,705,458.06    \n",
       "24   Brasil                    1,214,621,304.37  1,111,130,506.70    \n",
       "119  México                    1,175,713,738.97  1,088,546,384.57    \n",
       "50   España                    1,169,527,247.02  1,067,674,182.62    \n",
       "92   Italia                    976,665,367.15    930,416,268.89      \n",
       "37   Colombia                  709,119,549.45    659,925,238.92      \n",
       "1    Alemania                  551,827,831.85    518,637,085.09      \n",
       "94   Japón                     573,175,844.49    518,537,258.70      \n",
       "75   India                     495,271,573.54    455,220,480.30      \n",
       "0    Otros                     6,555,200,989.80  6,037,144,843.77    \n",
       "\n",
       "     V_FOB_USD_%  V_CIF_USD_%  \n",
       "53  40.94        40.65         \n",
       "35  16.39        16.55         \n",
       "24  3.83         3.87          \n",
       "119 3.75         3.75          \n",
       "50  3.68         3.73          \n",
       "92  3.20         3.11          \n",
       "37  2.27         2.26          \n",
       "1   1.79         1.76          \n",
       "94  1.79         1.83          \n",
       "75  1.57         1.58          \n",
       "0   20.80        20.91         "
      ]
     },
     "execution_count": 10,
     "metadata": {},
     "output_type": "execute_result"
    }
   ],
   "source": [
    "# Calcular la suma de los valores de V_FOB_USD y V_CIF_USD para cada país de origen\n",
    "pais_origen = importaciones_2023.pivot_table(index=\"Pais_Origen\", values={\"V_FOB_USD\", \"V_CIF_USD\"}, aggfunc=np.sum).reset_index()\n",
    "\n",
    "# Seleccionar los 10 principales países por valor FOB y calcular el total de los demás países\n",
    "top_10_country = pais_origen.sort_values(\"V_FOB_USD\", ascending=False).head(10)\n",
    "other_country = pais_origen.sort_values(\"V_FOB_USD\", ascending=True).head(-10)\n",
    "\n",
    "# Calcular el resumen de países de origen, incluyendo el total de otros países\n",
    "pais_origen_resumen = top_10_country.append(pd.DataFrame(data={\"Pais_Origen\": [\"Otros\"],\n",
    "                                                               \"V_FOB_USD\": [other_country[\"V_FOB_USD\"].sum()],\n",
    "                                                               \"V_CIF_USD\": [other_country[\"V_CIF_USD\"].sum()]}))\n",
    "\n",
    "# Calcular los porcentajes de los valores FOB y CIF para cada país de origen y otros\n",
    "pais_origen_resumen[\"V_FOB_USD_%\"] = 100 * (pais_origen_resumen[\"V_FOB_USD\"] / pais_origen_resumen[\"V_FOB_USD\"].sum())\n",
    "pais_origen_resumen[\"V_CIF_USD_%\"] = 100 * (pais_origen_resumen[\"V_CIF_USD\"] / pais_origen_resumen[\"V_CIF_USD\"].sum())\n",
    "\n",
    "# Mostrar el resumen de países de origen\n",
    "pais_origen_resumen"
   ]
  },
  {
   "cell_type": "code",
   "execution_count": 11,
   "metadata": {},
   "outputs": [
    {
     "data": {
      "image/png": "[encoded data removed]",
      "text/plain": [
       "<Figure size 720x432 with 1 Axes>"
      ]
     },
     "metadata": {
      "needs_background": "light"
     },
     "output_type": "display_data"
    }
   ],
   "source": [
    "plt.figure(figsize=(10, 6))\n",
    "sns.set_theme(style=\"white\")\n",
    "\n",
    "# Crear el gráfico de barras\n",
    "graf = sns.barplot(data=pais_origen_resumen, x=\"Pais_Origen\", y=\"V_CIF_USD\")\n",
    "\n",
    "# Establecer etiquetas para los ejes x e y\n",
    "graf.set(xlabel=\"Principales Socios Comerciales\", ylabel=\"Valor de Importaciones\")\n",
    "\n",
    "# Envolver las etiquetas del eje x para mejorar la legibilidad\n",
    "wrap_labels(graf, 10)\n"
   ]
  }
 ],
 "metadata": {
  "kernelspec": {
   "display_name": "base",
   "language": "python",
   "name": "python3"
  },
  "language_info": {
   "codemirror_mode": {
    "name": "ipython",
    "version": 3
   },
   "file_extension": ".py",
   "mimetype": "text/x-python",
   "name": "python",
   "nbconvert_exporter": "python",
   "pygments_lexer": "ipython3",
   "version": "3.9.7"
  }
 },
 "nbformat": 4,
 "nbformat_minor": 2
}
